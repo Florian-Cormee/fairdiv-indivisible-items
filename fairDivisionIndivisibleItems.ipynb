{
 "cells": [
  {
   "cell_type": "markdown",
   "metadata": {},
   "source": [
    "# Fair Division of Indivisible Goods"
   ]
  },
  {
   "cell_type": "markdown",
   "metadata": {},
   "source": [
    "This is a Jupyter Notebook coming along with the chapter \n",
    "* Chapter 12 (Handbook of Computational Social Choice)\n",
    "\n",
    "This notebook was used as part of the course of :\n",
    "* The COST Summer School Lecture on Fair Division of Indivisible Items (San Sebastian, July 2016)\n",
    "* COCOMA: Master ANDROIDE course at Sorbonne Université, 2016-2021\n",
    "\n",
    "This version: 20-01-2021"
   ]
  },
  {
   "cell_type": "markdown",
   "metadata": {},
   "source": [
    "## 1. Defining MARA problems"
   ]
  },
  {
   "cell_type": "markdown",
   "metadata": {},
   "source": [
    "By importing the module `problem`, we can define fair division problems, by specifying a number of agents, a number of resources, and a type of \"culture\" to draw the preferences from. \n",
    "\n",
    "You can either:\n",
    "* define a **centralized** MARA problem (all the resources are initially held by agent 0, who plays in this case the role of the auctioneer -- and counts as an agent)\n",
    "* define a **decentralized** MARA problem (resources are initially randomly allocated)\n",
    "\n",
    "You can also select the method to generate utilities: \n",
    "* **uniform**: utilities for each resource is drawn uniformly at random from 1 to 100\n",
    "* **normalized**: utilities are normalized in [0,1]\n",
    "* **Borda** utilities (worst resource valued 1, and so on, best one m)\n",
    "* **empty**: leaves utilites undefined. You can later use p.setUtilities() to set utilities as you wish for a problem p. "
   ]
  },
  {
   "cell_type": "code",
   "execution_count": 2,
   "metadata": {},
   "outputs": [],
   "source": [
    "from problem import Problem\n"
   ]
  },
  {
   "cell_type": "code",
   "execution_count": 23,
   "metadata": {},
   "outputs": [
    {
     "name": "stdout",
     "output_type": "stream",
     "text": [
      "agent 1{'r0': 47, 'r1': 14, 'r2': 25, 'r3': 14}\n",
      "agent 2{'r0': 31, 'r1': 97, 'r2': 40, 'r3': 29}\n",
      "\n"
     ]
    }
   ],
   "source": [
    "p1 = Problem(3,4,'uniform',centralized=True)\n",
    "print(p1)"
   ]
  },
  {
   "cell_type": "markdown",
   "metadata": {},
   "source": [
    "Printing the allocation allows to see which agent holds which resource, and the current utility of each agent. "
   ]
  },
  {
   "cell_type": "code",
   "execution_count": 24,
   "metadata": {},
   "outputs": [
    {
     "name": "stdout",
     "output_type": "stream",
     "text": [
      "auctioneer            ['r0', 'r1', 'r2', 'r3']\t\n",
      "agent  1                                 []\t 0\n",
      "agent  2                                 []\t 0\n",
      "\n"
     ]
    }
   ],
   "source": [
    "print(p1.printAllocation())\n"
   ]
  },
  {
   "cell_type": "markdown",
   "metadata": {},
   "source": [
    "It is also possible to set the allocation by hand, by using the setAllocation method. The allocation is specified as a boolean array. "
   ]
  },
  {
   "cell_type": "code",
   "execution_count": 25,
   "metadata": {},
   "outputs": [],
   "source": [
    "p1.setAllocation([[0,0,0,0],[1,1,0,0],[0,0,1,1]])"
   ]
  },
  {
   "cell_type": "code",
   "execution_count": 26,
   "metadata": {},
   "outputs": [
    {
     "name": "stdout",
     "output_type": "stream",
     "text": [
      "auctioneer                                  []\t\n",
      "agent  1                       ['r0', 'r1']\t61\n",
      "agent  2                       ['r2', 'r3']\t69\n",
      "\n"
     ]
    }
   ],
   "source": [
    "print(p1.printAllocation())"
   ]
  },
  {
   "cell_type": "markdown",
   "metadata": {},
   "source": [
    "A problem also handles an (undirected) **visibility graph** among agents. Note that in the centalized case, agent 0 is isolated from the rest (his utility is irrelevant), while all the other agents are by default connected. "
   ]
  },
  {
   "cell_type": "code",
   "execution_count": 27,
   "metadata": {},
   "outputs": [
    {
     "name": "stdout",
     "output_type": "stream",
     "text": [
      "{0: [], 1: [2], 2: [1]}\n"
     ]
    }
   ],
   "source": [
    "print (p1.visibility_graph)"
   ]
  },
  {
   "cell_type": "code",
   "execution_count": 28,
   "metadata": {},
   "outputs": [],
   "source": [
    "p1.setVisibilityGraph({0:[],1:[],2:[]})"
   ]
  },
  {
   "cell_type": "markdown",
   "metadata": {},
   "source": [
    "No one sees anyone now..."
   ]
  },
  {
   "cell_type": "markdown",
   "metadata": {},
   "source": [
    "### Example of the course"
   ]
  },
  {
   "cell_type": "code",
   "execution_count": 29,
   "metadata": {},
   "outputs": [
    {
     "name": "stdout",
     "output_type": "stream",
     "text": [
      "agent 1{'r0': 1, 'r1': 2, 'r2': 5, 'r3': 3, 'r4': 7, 'r5': 2}\n",
      "agent 2{'r0': 2, 'r1': 6, 'r2': 8, 'r3': 1, 'r4': 1, 'r5': 2}\n",
      "agent 3{'r0': 5, 'r1': 4, 'r2': 4, 'r3': 3, 'r4': 2, 'r5': 2}\n",
      "\n",
      "auctioneer ['r0', 'r1', 'r2', 'r3', 'r4', 'r5']\t\n",
      "agent  1                                 []\t 0\n",
      "agent  2                                 []\t 0\n",
      "agent  3                                 []\t 0\n",
      "\n"
     ]
    }
   ],
   "source": [
    "p3 = Problem(4,6,'empty', centralized=True)\n",
    "p3.setUtilities(\n",
    "[{'r0':0,'r1':0,'r2':0,'r3':0,'r4':0,'r5':0},\\\n",
    "{'r0':1,'r1':2,'r2':5,'r3':3,'r4':7,'r5':2},\\\n",
    "{'r0':2,'r1':6,'r2':8,'r3':1,'r4':1,'r5':2},\\\n",
    "{'r0':5,'r1':4,'r2':4,'r3':3,'r4':2,'r5':2}]\n",
    ")\n",
    "print (p3)\n",
    "print (p3.printAllocation())"
   ]
  },
  {
   "cell_type": "markdown",
   "metadata": {},
   "source": [
    "## 2. Fairness measures"
   ]
  },
  {
   "cell_type": "markdown",
   "metadata": {},
   "source": [
    "The module `fairness_measures` provides a number of fairness measures for a given allocation: \n",
    "* proportionality\n",
    "* egalitarian social welfare\n",
    "* various notions of envy"
   ]
  },
  {
   "cell_type": "code",
   "execution_count": 30,
   "metadata": {},
   "outputs": [],
   "source": [
    "import fairness_measures"
   ]
  },
  {
   "cell_type": "code",
   "execution_count": 31,
   "metadata": {},
   "outputs": [
    {
     "name": "stdout",
     "output_type": "stream",
     "text": [
      "agent 0{'r0': 0.062, 'r1': 0.167, 'r2': 0.314, 'r3': 0.248, 'r4': 0.205, 'r5': 0.005}\n",
      "agent 1{'r0': 0.153, 'r1': 0.081, 'r2': 0.183, 'r3': 0.111, 'r4': 0.228, 'r5': 0.246}\n",
      "agent 2{'r0': 0.207, 'r1': 0.015, 'r2': 0.07, 'r3': 0.17, 'r4': 0.185, 'r5': 0.354}\n",
      "\n"
     ]
    }
   ],
   "source": [
    "p2 = Problem(3,6,'normalized',centralized=False)\n",
    "print(p2)"
   ]
  },
  {
   "cell_type": "code",
   "execution_count": 32,
   "metadata": {},
   "outputs": [
    {
     "name": "stdout",
     "output_type": "stream",
     "text": [
      "=-=-=-=-=-=-=-=-=-=-=-=-=-=-=-=-=-=-=-=-=-=-=-=-=-=\n",
      "agent  0                             ['r4']\t0.205\n",
      "agent  1                                 []\t 0\n",
      "agent  2     ['r0', 'r1', 'r2', 'r3', 'r5']\t0.816\n",
      "\n"
     ]
    }
   ],
   "source": [
    "print(p2.printAllocation())"
   ]
  },
  {
   "cell_type": "markdown",
   "metadata": {},
   "source": [
    "We can check various fairness properties..."
   ]
  },
  {
   "cell_type": "code",
   "execution_count": 33,
   "metadata": {},
   "outputs": [
    {
     "name": "stdout",
     "output_type": "stream",
     "text": [
      "False\n"
     ]
    }
   ],
   "source": [
    "print(fairness_measures.isProportional(p2))"
   ]
  },
  {
   "cell_type": "code",
   "execution_count": 34,
   "metadata": {
    "scrolled": true
   },
   "outputs": [
    {
     "name": "stdout",
     "output_type": "stream",
     "text": [
      "0\n"
     ]
    }
   ],
   "source": [
    "print(fairness_measures.egalitarianSW(p2))"
   ]
  },
  {
   "cell_type": "markdown",
   "metadata": {},
   "source": [
    "... and build the envy matrix from which several measures can be obtained. "
   ]
  },
  {
   "cell_type": "code",
   "execution_count": 35,
   "metadata": {},
   "outputs": [
    {
     "name": "stdout",
     "output_type": "stream",
     "text": [
      "[[0.    0.    0.591]\n",
      " [0.228 0.    0.774]\n",
      " [0.    0.    0.   ]]\n",
      "There are  2  envious agents\n",
      "The maximum envy among two agents is  0.774\n"
     ]
    }
   ],
   "source": [
    "em2 = fairness_measures.envyMatrix(p2)\n",
    "print(em2)\n",
    "print(\"There are \", fairness_measures.nbEnviousAgents(em2), \" envious agents\")\n",
    "print(\"The maximum envy among two agents is \", fairness_measures.maxEnvy(em2))"
   ]
  },
  {
   "cell_type": "code",
   "execution_count": 36,
   "metadata": {},
   "outputs": [
    {
     "name": "stdout",
     "output_type": "stream",
     "text": [
      "True\n"
     ]
    }
   ],
   "source": [
    "em1 = fairness_measures.envyMatrix(p1)\n",
    "print(fairness_measures.isEnvyFree(em1))"
   ]
  },
  {
   "cell_type": "code",
   "execution_count": 37,
   "metadata": {},
   "outputs": [
    {
     "name": "stdout",
     "output_type": "stream",
     "text": [
      "False\n"
     ]
    }
   ],
   "source": [
    "p1.setVisibilityGraph({0:[],1:[2],2:[1]})\n",
    "em1 = fairness_measures.envyMatrix(p1)\n",
    "print(fairness_measures.isEnvyFree(em1))"
   ]
  },
  {
   "cell_type": "markdown",
   "metadata": {},
   "source": [
    "### Question"
   ]
  },
  {
   "cell_type": "markdown",
   "metadata": {},
   "source": [
    "Create an instance involving 3 agents and 4 resources, with the following  utilities for the ressources : \n",
    "* agent 0: 6, 6, 1, 7\n",
    "* agent 1: 1, 3, 9, 7\n",
    "* agent 2: 8, 0, 4, 8\n",
    "\n",
    "Find allocations which satisfies : \n",
    "* proportionality\n",
    "* envy-freeness\n",
    "* maximizes egalitarian social welfare\n",
    "* maximizes utilitarian social welfare\n",
    "* maximizes the Nash product"
   ]
  },
  {
   "cell_type": "markdown",
   "metadata": {},
   "source": [
    "### Question\n",
    "\n",
    "There are a few missing notions though. Code functions which returns:\n",
    "* whether the allocation is envy-free up to **one** or **any** good"
   ]
  },
  {
   "cell_type": "markdown",
   "metadata": {},
   "source": [
    "## 3. Solving via MIP"
   ]
  },
  {
   "cell_type": "markdown",
   "metadata": {},
   "source": [
    "By importing `mipsolving` we get access to functions allowing to optimally solve the problems via MIP formulations (see course). \n",
    "The program uses the `Pulp` libray for linear programming. "
   ]
  },
  {
   "cell_type": "code",
   "execution_count": 40,
   "metadata": {},
   "outputs": [],
   "source": [
    "import mipsolving"
   ]
  },
  {
   "cell_type": "code",
   "execution_count": 41,
   "metadata": {},
   "outputs": [
    {
     "name": "stdout",
     "output_type": "stream",
     "text": [
      "Status: Optimal\n",
      "envy_bound\n",
      "0.0\n",
      "agent  1  gets resource r4\n",
      "agent  1  gets resource r5\n",
      "agent  2  gets resource r1\n",
      "agent  2  gets resource r2\n",
      "agent  3  gets resource r0\n",
      "agent  3  gets resource r3\n",
      "the final max envy is  0.0\n"
     ]
    }
   ],
   "source": [
    "e3 = mipsolving.envyminimizingLP(p3,verbose=True)\n",
    "print(\"the final max envy is \",e3)"
   ]
  },
  {
   "cell_type": "markdown",
   "metadata": {},
   "source": [
    "(Note that this has not modified the initial problem)"
   ]
  },
  {
   "cell_type": "code",
   "execution_count": 42,
   "metadata": {},
   "outputs": [
    {
     "name": "stdout",
     "output_type": "stream",
     "text": [
      "agent  1  gets resource r3\n",
      "agent  1  gets resource r4\n",
      "agent  2  gets resource r2\n",
      "agent  2  gets resource r5\n",
      "agent  3  gets resource r0\n",
      "agent  3  gets resource r1\n",
      "9.0\n"
     ]
    }
   ],
   "source": [
    "print(mipsolving.assignmentLP(p3,verbose=True))"
   ]
  },
  {
   "cell_type": "markdown",
   "metadata": {},
   "source": [
    "## 4. How likely is it to get an envy-free allocation? "
   ]
  },
  {
   "cell_type": "markdown",
   "metadata": {},
   "source": [
    "For facilitating the run of several problems with varying or similar parameters, the module simulations provides a few functions. "
   ]
  },
  {
   "cell_type": "code",
   "execution_count": 43,
   "metadata": {},
   "outputs": [],
   "source": [
    "import simulations\n"
   ]
  },
  {
   "cell_type": "markdown",
   "metadata": {},
   "source": [
    "Let us illustrate this on a specific question, adressed by Dickerson et al. in their paper: \n",
    "* The computational Rise and Fall of Fairness, AAAI-2014"
   ]
  },
  {
   "cell_type": "code",
   "execution_count": 46,
   "metadata": {},
   "outputs": [
    {
     "name": "stdout",
     "output_type": "stream",
     "text": [
      "Experiments completed!\n"
     ]
    }
   ],
   "source": [
    "tested_resources = list(range(5,10)) # from 2 to 4 resources\n",
    "tested_agents = [5] # only 5 agents\n",
    "max_envy,ratio_ef = simulations.simulationOpt(50,tested_agents,tested_resources,'normalized')\n",
    "#print (max_envy,ratio_ef)\n",
    "print(\"Experiments completed!\")"
   ]
  },
  {
   "cell_type": "code",
   "execution_count": 47,
   "metadata": {},
   "outputs": [
    {
     "data": {
      "image/png": "[encoded data removed]",
      "text/plain": [
       "<Figure size 900x288 with 1 Axes>"
      ]
     },
     "metadata": {
      "needs_background": "light"
     },
     "output_type": "display_data"
    }
   ],
   "source": [
    "%matplotlib inline\n",
    "import numpy as np\n",
    "from matplotlib import pyplot as plt\n",
    "from IPython.core.pylabtools import figsize\n",
    "import networkx as nx\n",
    "import pylab\n",
    "figsize(12.5, 4)\n",
    "p = np.linspace(tested_resources[0], tested_resources[0]+len(tested_resources)-1,len(tested_resources))\n",
    "#print(p)\n",
    "plt.plot(p, max_envy[0], color='red')\n",
    "plt.plot(p, ratio_ef[0], color = 'blue')\n",
    "legende = \"Average max envy and ratio of envy-free, for increasing number of items\"\n",
    "plt.suptitle(legende, y=1.02, fontsize=15)\n",
    "plt.tight_layout()"
   ]
  },
  {
   "cell_type": "markdown",
   "metadata": {},
   "source": [
    "### 3.1 Question\n",
    "Play a little bit with these simulations and try to determine:\n",
    "* for 2 agents, how the max envy evolves, from which number of agents you can be reasonably sure to get an envy-free allocation\n",
    "* same question for 5 agents"
   ]
  },
  {
   "cell_type": "markdown",
   "metadata": {},
   "source": [
    "## 5. Envy-Freeness on Graph"
   ]
  },
  {
   "cell_type": "markdown",
   "metadata": {},
   "source": [
    "Augment the code of mipsolving so as to account for graph envy-freeness, ie. an envy is only considered among agents which are neighbours in the graph. Then, test how likely it is to get a graph-envy free allocation:\n",
    "* on a line of 10 agents, with Borda utilities,\n",
    "* on a star of 10 agents, with Borda utilities."
   ]
  },
  {
   "cell_type": "code",
   "execution_count": null,
   "metadata": {
    "collapsed": true
   },
   "outputs": [],
   "source": []
  }
 ],
 "metadata": {
  "anaconda-cloud": {},
  "kernelspec": {
   "display_name": "Python 3",
   "language": "python",
   "name": "python3"
  },
  "language_info": {
   "codemirror_mode": {
    "name": "ipython",
    "version": 3
   },
   "file_extension": ".py",
   "mimetype": "text/x-python",
   "name": "python",
   "nbconvert_exporter": "python",
   "pygments_lexer": "ipython3",
   "version": "3.7.4"
  }
 },
 "nbformat": 4,
 "nbformat_minor": 1
}
