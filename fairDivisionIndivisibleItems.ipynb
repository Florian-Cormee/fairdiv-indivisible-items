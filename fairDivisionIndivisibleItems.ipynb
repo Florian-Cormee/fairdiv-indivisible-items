{
 "cells": [
  {
   "cell_type": "markdown",
   "metadata": {},
   "source": [
    "# Fair Division of Indivisible Goods"
   ]
  },
  {
   "cell_type": "markdown",
   "metadata": {},
   "source": [
    "This is Jupyter Notebook coming along with the chapter \n",
    "* (Handbook of Computational Social Choice)\n"
   ]
  },
  {
   "cell_type": "markdown",
   "metadata": {},
   "source": [
    "## Defining MARA problems"
   ]
  },
  {
   "cell_type": "code",
   "execution_count": 1,
   "metadata": {
    "collapsed": false
   },
   "outputs": [
    {
     "name": "stdout",
     "output_type": "stream",
     "text": [
      "agent 0{'r1': 0, 'r2': 0, 'r5': 0, 'r3': 0, 'r4': 0, 'r0': 0}\n",
      "agent 1{'r1': 0, 'r2': 0, 'r5': 0, 'r3': 0, 'r4': 0, 'r0': 0}\n",
      "agent 2{'r1': 0, 'r2': 0, 'r5': 0, 'r3': 0, 'r4': 0, 'r0': 0}\n",
      "agent 3{'r1': 0, 'r2': 0, 'r5': 0, 'r3': 0, 'r4': 0, 'r0': 0}\n",
      "\n",
      "agent 0{'r1': 0, 'r2': 0, 'r5': 0, 'r3': 0, 'r4': 0, 'r0': 0}\n",
      "agent 1{'r1': 2, 'r2': 5, 'r5': 2, 'r3': 3, 'r4': 7, 'r0': 1}\n",
      "agent 2{'r1': 6, 'r2': 8, 'r5': 2, 'r3': 1, 'r4': 1, 'r0': 2}\n",
      "agent 3{'r1': 4, 'r2': 4, 'r5': 2, 'r3': 3, 'r4': 2, 'r0': 5}\n",
      "\n"
     ]
    }
   ],
   "source": [
    "from problem import Problem"
   ]
  },
  {
   "cell_type": "markdown",
   "metadata": {},
   "source": [
    "A problem is defined by specifying :\n",
    "* a number of agents\n",
    "* a number of resources\n",
    "* a way to generate utilities\n",
    "* an initial allocation of resources\n",
    "* a visibility graph"
   ]
  },
  {
   "cell_type": "code",
   "execution_count": 3,
   "metadata": {
    "collapsed": false
   },
   "outputs": [
    {
     "name": "stdout",
     "output_type": "stream",
     "text": [
      "agent 0{'r1': 0, 'r2': 0, 'r5': 0, 'r3': 0, 'r4': 0, 'r0': 0}\n",
      "agent 1{'r1': 0, 'r2': 0, 'r5': 0, 'r3': 0, 'r4': 0, 'r0': 0}\n",
      "agent 2{'r1': 0, 'r2': 0, 'r5': 0, 'r3': 0, 'r4': 0, 'r0': 0}\n",
      "agent 3{'r1': 0, 'r2': 0, 'r5': 0, 'r3': 0, 'r4': 0, 'r0': 0}\n",
      "\n",
      "=-=-=-=-=-=-=-=-=-=-=-=-=-=-=-=-=-=-=-=-=-=-=-=-=-=\n",
      "agent  0['r1', 'r2', 'r5', 'r3', 'r4', 'r0']\t 0\n",
      "agent  1                                 []\t 0\n",
      "agent  2                                 []\t 0\n",
      "agent  3                                 []\t 0\n",
      "\n"
     ]
    }
   ],
   "source": [
    "p1 = Problem(4,6,'empty','auctioneer','complete')\n",
    "print (p1)\n",
    "print (p1.printAllocation())"
   ]
  },
  {
   "cell_type": "code",
   "execution_count": 5,
   "metadata": {
    "collapsed": false
   },
   "outputs": [
    {
     "name": "stdout",
     "output_type": "stream",
     "text": [
      "agent 0{'r1': 0, 'r2': 0, 'r5': 0, 'r3': 0, 'r4': 0, 'r0': 0}\n",
      "agent 1{'r1': 2, 'r2': 5, 'r5': 2, 'r3': 3, 'r4': 7, 'r0': 1}\n",
      "agent 2{'r1': 6, 'r2': 8, 'r5': 2, 'r3': 1, 'r4': 1, 'r0': 2}\n",
      "agent 3{'r1': 4, 'r2': 4, 'r5': 2, 'r3': 3, 'r4': 2, 'r0': 5}\n",
      "\n"
     ]
    }
   ],
   "source": [
    "p1.setUtilities(\n",
    "[{'r0':0,'r1':0,'r2':0,'r3':0,'r4':0,'r5':0},\\\n",
    "{'r0':1,'r1':2,'r2':5,'r3':3,'r4':7,'r5':2},\\\n",
    "{'r0':2,'r1':6,'r2':8,'r3':1,'r4':1,'r5':2},\\\n",
    "{'r0':5,'r1':4,'r2':4,'r3':3,'r4':2,'r5':2}]\n",
    ")\n",
    "print(p1)"
   ]
  },
  {
   "cell_type": "markdown",
   "metadata": {},
   "source": [
    "## Solving via MIP"
   ]
  },
  {
   "cell_type": "code",
   "execution_count": 6,
   "metadata": {
    "collapsed": true
   },
   "outputs": [],
   "source": [
    "import mipsolving"
   ]
  },
  {
   "cell_type": "code",
   "execution_count": 9,
   "metadata": {
    "collapsed": false
   },
   "outputs": [
    {
     "name": "stdout",
     "output_type": "stream",
     "text": [
      "agent  1  gets resource r3\n",
      "agent  1  gets resource r4\n",
      "agent  2  gets resource r2\n",
      "agent  2  gets resource r5\n",
      "agent  3  gets resource r0\n",
      "agent  3  gets resource r1\n",
      "0.0\n"
     ]
    }
   ],
   "source": [
    "print(mipsolving.envyminimizingLP(p1,verbose=True))"
   ]
  },
  {
   "cell_type": "code",
   "execution_count": 11,
   "metadata": {
    "collapsed": false
   },
   "outputs": [
    {
     "name": "stdout",
     "output_type": "stream",
     "text": [
      "agent  1  gets resource r3\n",
      "agent  1  gets resource r4\n",
      "agent  2  gets resource r2\n",
      "agent  2  gets resource r5\n",
      "agent  3  gets resource r0\n",
      "agent  3  gets resource r1\n",
      "9.0\n"
     ]
    }
   ],
   "source": [
    "print(mipsolving.assignmentLP(p1))"
   ]
  },
  {
   "cell_type": "markdown",
   "metadata": {},
   "source": [
    "## Protocols"
   ]
  },
  {
   "cell_type": "markdown",
   "metadata": {},
   "source": [
    "### Picking Sequences"
   ]
  },
  {
   "cell_type": "code",
   "execution_count": 1,
   "metadata": {
    "collapsed": false
   },
   "outputs": [
    {
     "name": "stdout",
     "output_type": "stream",
     "text": [
      "agent 0{'r4': 1, 'r0': 4, 'r5': 6, 'r2': 5, 'r3': 3, 'r1': 2}\n",
      "agent 1{'r2': 4, 'r1': 1, 'r5': 2, 'r4': 3, 'r3': 6, 'r0': 5}\n",
      "agent 2{'r2': 3, 'r5': 2, 'r4': 6, 'r3': 4, 'r1': 5, 'r0': 1}\n",
      "agent 3{'r5': 1, 'r3': 2, 'r2': 4, 'r4': 3, 'r1': 5, 'r0': 6}\n",
      "\n",
      "=-=-=-=-=-=-=-=-=-=-=-=-=-=-=-=-=-=-=-=-=-=-=-=-=-=\n",
      "agent  0['r4', 'r0', 'r5', 'r2', 'r3', 'r1']\t21\n",
      "agent  1                                 []\t 0\n",
      "agent  2                                 []\t 0\n",
      "agent  3                                 []\t 0\n",
      "\n",
      "agent  1  picks  r3\n",
      "agent  2  picks  r4\n",
      "agent  3  picks  r0\n",
      "agent  3  picks  r1\n",
      "agent  2  picks  r2\n",
      "agent  1  picks  r5\n",
      "=-=-=-=-=-=-=-=-=-=-=-=-=-=-=-=-=-=-=-=-=-=-=-=-=-=\n",
      "agent  0                                 []\t 0\n",
      "agent  1                       ['r3', 'r5']\t 8\n",
      "agent  2                       ['r4', 'r2']\t 9\n",
      "agent  3                       ['r0', 'r1']\t11\n",
      "\n",
      "[[ 0.  0.  0.  0.]\n",
      " [ 0.  0.  0.  0.]\n",
      " [ 0.  0.  0.  0.]\n",
      " [ 0.  0.  0.  0.]]\n"
     ]
    }
   ],
   "source": [
    "import protocols"
   ]
  },
  {
   "cell_type": "code",
   "execution_count": null,
   "metadata": {
    "collapsed": true
   },
   "outputs": [],
   "source": []
  }
 ],
 "metadata": {
  "kernelspec": {
   "display_name": "Python 3",
   "language": "python",
   "name": "python3"
  },
  "language_info": {
   "codemirror_mode": {
    "name": "ipython",
    "version": 3
   },
   "file_extension": ".py",
   "mimetype": "text/x-python",
   "name": "python",
   "nbconvert_exporter": "python",
   "pygments_lexer": "ipython3",
   "version": "3.5.1"
  }
 },
 "nbformat": 4,
 "nbformat_minor": 0
}
